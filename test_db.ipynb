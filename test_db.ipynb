{
 "cells": [
  {
   "cell_type": "code",
   "execution_count": 13,
   "metadata": {},
   "outputs": [
    {
     "name": "stdout",
     "output_type": "stream",
     "text": [
      "(('user_id', None, None, None, None, None, None), ('annee', None, None, None, None, None, None), ('filiere', None, None, None, None, None, None), ('majeur', None, None, None, None, None, None))\n",
      "[(1, 3, 'ETI', 'INFRA DES RESEAUX'), (2, None, None, None), (3, None, None, None), (4, None, None, None), (5, None, None, None), (6, None, None, None), (7, None, None, None), (8, None, None, None), (18, 4, 'CGP', 'test'), (20, 4, 'CGP', 'test')]\n"
     ]
    }
   ],
   "source": [
    "# reading db.db\n",
    "import sqlite3\n",
    "\n",
    "conn = sqlite3.connect('db.db')\n",
    "c = conn.cursor()\n",
    "\n",
    "# reading table\n",
    "sql = \"SELECT * FROM users\"\n",
    "t = c.execute(sql)\n",
    "res = t.fetchall()\n",
    "print(t.description)\n",
    "print(res)\n",
    "\n"
   ]
  }
 ],
 "metadata": {
  "kernelspec": {
   "display_name": "Python 3",
   "language": "python",
   "name": "python3"
  },
  "language_info": {
   "codemirror_mode": {
    "name": "ipython",
    "version": 3
   },
   "file_extension": ".py",
   "mimetype": "text/x-python",
   "name": "python",
   "nbconvert_exporter": "python",
   "pygments_lexer": "ipython3",
   "version": "3.10.10"
  },
  "orig_nbformat": 4
 },
 "nbformat": 4,
 "nbformat_minor": 2
}
