{
 "cells": [
  {
   "cell_type": "code",
   "execution_count": 2,
   "metadata": {},
   "outputs": [],
   "source": [
    "import sqlite3\n",
    "from sqlite3 import Error\n",
    "import pandas as pd\n",
    "\n",
    "def create_connection(db_file):\n",
    "    \"\"\" create a database connection to the SQLite database\n",
    "        specified by db_file\n",
    "    :param db_file: database file\n",
    "    :return: Connection object or None\n",
    "    \"\"\"\n",
    "    conn = None\n",
    "    try:\n",
    "        conn = sqlite3.connect(db_file)\n",
    "        return conn\n",
    "    except Error as e:\n",
    "        print(e)\n",
    "\n",
    "    return conn\n",
    "\n",
    "\n",
    "def create_table(conn, create_table_sql):\n",
    "    \"\"\" create a table from the create_table_sql statement\n",
    "    :param conn: Connection object\n",
    "    :param create_table_sql: a CREATE TABLE statement\n",
    "    :return:\n",
    "    \"\"\"\n",
    "    try:\n",
    "        c = conn.cursor()\n",
    "        c.execute(create_table_sql)\n",
    "    except Error as e:\n",
    "        print(e)\n",
    "\n",
    "\n",
    "def main():\n",
    "    database = \"users.db\"\n",
    "\n",
    "    sql_create_user_table = \"\"\" CREATE TABLE IF NOT EXISTS user (\n",
    "                                        id_user integer PRIMARY KEY,\n",
    "                                        promo text,\n",
    "                                        filliere text,\n",
    "                                        groupe text,\n",
    "                                        majeur text\n",
    "                                    ); \"\"\"\n",
    "\n",
    "    sql_create_tj_user_mso_table = \"\"\"CREATE TABLE IF NOT EXISTS tj_user_mso (\n",
    "                                    id_user integer,\n",
    "                                    id_mso integer,\n",
    "                                    PRIMARY KEY (id_user, id_mso)\n",
    "                                );\"\"\"\n",
    "    sql_create_mso_table = \"\"\"CREATE TABLE IF NOT EXISTS mso (\n",
    "                                    id_mso integer PRIMARY KEY,\n",
    "                                    name_mso text\n",
    "                                );\"\"\"\n",
    "\n",
    "    # create a database connection\n",
    "    conn = create_connection(database)\n",
    "\n",
    "    # create tables\n",
    "    if conn is not None:\n",
    "        # create projects table\n",
    "        create_table(conn, sql_create_user_table)\n",
    "\n",
    "        # create tasks table\n",
    "        create_table(conn, sql_create_tj_user_mso_table)\n",
    "\n",
    "        # create tasks table\n",
    "        create_table(conn, sql_create_mso_table)\n",
    "    else:\n",
    "        print(\"Error! cannot create the database connection.\")\n",
    "    \n",
    "if __name__ == '__main__':\n",
    "    main()"
   ]
  },
  {
   "cell_type": "code",
   "execution_count": 3,
   "metadata": {},
   "outputs": [
    {
     "name": "stdout",
     "output_type": "stream",
     "text": [
      "            id_user promo filliere groupe majeur\n",
      "0  5810016312430121     4     None   None   None\n",
      "1  5895303783891270     4     None   None   None\n"
     ]
    }
   ],
   "source": [
    "import sqlite3\n",
    "from sqlite3 import Error\n",
    "import pandas as pd\n",
    "def readtables(table):\n",
    "    con = sqlite3.connect(\"users.db\")\n",
    "    df = pd.read_sql_query(f\"SELECT * from {table}\", con)\n",
    "\n",
    "    # Verify that result of SQL query is stored in the dataframe\n",
    "    print(df.head())\n",
    "\n",
    "\n",
    "\n",
    "readtables(\"user\")"
   ]
  }
 ],
 "metadata": {
  "kernelspec": {
   "display_name": "Python 3",
   "language": "python",
   "name": "python3"
  },
  "language_info": {
   "codemirror_mode": {
    "name": "ipython",
    "version": 3
   },
   "file_extension": ".py",
   "mimetype": "text/x-python",
   "name": "python",
   "nbconvert_exporter": "python",
   "pygments_lexer": "ipython3",
   "version": "3.10.10"
  },
  "orig_nbformat": 4
 },
 "nbformat": 4,
 "nbformat_minor": 2
}
